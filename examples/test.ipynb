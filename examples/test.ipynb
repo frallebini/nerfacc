{
 "cells": [
  {
   "cell_type": "code",
   "execution_count": 1,
   "metadata": {},
   "outputs": [],
   "source": [
    "import numpy as np\n",
    "import torch\n",
    "import torch.nn.functional as F\n",
    "import wandb\n",
    "from datasets.nerf_synthetic import SubjectLoader\n",
    "from nerfacc.estimators.occ_grid import OccGridEstimator\n",
    "from radiance_fields.ngp import NGPRadianceField\n",
    "from radiance_fields.ngp_single_mlp import NGPRadianceFieldSingleMlp\n",
    "\n",
    "from torch import Tensor\n",
    "from tqdm import tqdm\n",
    "from typing import Any, Dict, List\n",
    "from utils import render_image_with_occgrid_test"
   ]
  },
  {
   "cell_type": "code",
   "execution_count": null,
   "metadata": {},
   "outputs": [],
   "source": [
    "# dataset parameters\n",
    "scene = \"chair\"\n",
    "data_root = \"/media/data7/fballerini/datasets/nerf_synthetic\"\n",
    "test_dataset_kwargs = {}\n",
    "# scene parameters\n",
    "aabb = torch.tensor([-1.5, -1.5, -1.5, 1.5, 1.5, 1.5]).cuda()\n",
    "near_plane = 0.0\n",
    "# model parameters\n",
    "grid_resolution = 128\n",
    "grid_nlvl = 1\n",
    "# render parameters\n",
    "render_step_size = 5e-3\n",
    "alpha_thre = 0.0\n",
    "cone_angle = 0.0\n",
    "\n",
    "test_dataset = SubjectLoader(\n",
    "    subject_id=scene,\n",
    "    root_fp=data_root,\n",
    "    split=\"test\",\n",
    "    num_rays=None,\n",
    "    device=\"cuda:0\",\n",
    "    **test_dataset_kwargs,\n",
    ")\n",
    "\n",
    "estimator = OccGridEstimator(\n",
    "    roi_aabb=aabb, \n",
    "    resolution=grid_resolution, \n",
    "    levels=grid_nlvl\n",
    ").cuda()\n",
    "\n",
    "radiance_field = NGPRadianceFieldSingleMlp(\n",
    "    aabb=estimator.aabbs[-1],\n",
    "    use_viewdirs=False,\n",
    "    base_resolution=32,\n",
    "    n_levels=1,\n",
    "    n_features_per_level=8,\n",
    "    encoding_type=\"torch\",\n",
    "    mlp_activation=\"Sine\",\n",
    "    n_neurons=64,\n",
    "    n_hidden_layers=3\n",
    ").cuda()"
   ]
  },
  {
   "cell_type": "code",
   "execution_count": 3,
   "metadata": {},
   "outputs": [],
   "source": [
    "sd_A = torch.load(\"/media/data7/fballerini/nerfacc/examples/ckpts/torch_sine_single_1_8_32/chair_A.pt\")"
   ]
  },
  {
   "cell_type": "code",
   "execution_count": 38,
   "metadata": {},
   "outputs": [
    {
     "data": {
      "text/plain": [
       "torch.Size([32768, 8])"
      ]
     },
     "execution_count": 38,
     "metadata": {},
     "output_type": "execute_result"
    }
   ],
   "source": [
    "vox = sd_A[\"radiance_field\"][\"encoding.levels.0.embedding.weight\"]\n",
    "vox.shape"
   ]
  },
  {
   "cell_type": "code",
   "execution_count": 39,
   "metadata": {},
   "outputs": [
    {
     "data": {
      "text/plain": [
       "tensor([ 4.2767e-04,  6.2468e-05,  1.8006e-03, -2.1123e-03,  4.2656e-04,\n",
       "        -8.5651e-04, -4.7835e-04,  6.7730e-04], device='cuda:0')"
      ]
     },
     "execution_count": 39,
     "metadata": {},
     "output_type": "execute_result"
    }
   ],
   "source": [
    "vox[567]"
   ]
  },
  {
   "cell_type": "code",
   "execution_count": 40,
   "metadata": {},
   "outputs": [
    {
     "data": {
      "text/plain": [
       "(0, 1, 2, 3, 5, 4, 7, 6)"
      ]
     },
     "execution_count": 40,
     "metadata": {},
     "output_type": "execute_result"
    }
   ],
   "source": [
    "from itertools import permutations\n",
    "\n",
    "perm = list(permutations(range(8)))[7]\n",
    "perm"
   ]
  },
  {
   "cell_type": "code",
   "execution_count": 41,
   "metadata": {},
   "outputs": [],
   "source": [
    "vox = torch.index_select(vox, dim=1, index=torch.IntTensor(perm).cuda())"
   ]
  },
  {
   "cell_type": "code",
   "execution_count": 42,
   "metadata": {},
   "outputs": [
    {
     "data": {
      "text/plain": [
       "tensor([ 4.2767e-04,  6.2468e-05,  1.8006e-03, -2.1123e-03, -8.5651e-04,\n",
       "         4.2656e-04,  6.7730e-04, -4.7835e-04], device='cuda:0')"
      ]
     },
     "execution_count": 42,
     "metadata": {},
     "output_type": "execute_result"
    }
   ],
   "source": [
    "vox[567]"
   ]
  },
  {
   "cell_type": "code",
   "execution_count": 4,
   "metadata": {},
   "outputs": [
    {
     "data": {
      "text/plain": [
       "<All keys matched successfully>"
      ]
     },
     "execution_count": 4,
     "metadata": {},
     "output_type": "execute_result"
    }
   ],
   "source": [
    "estimator.load_state_dict(sd_A[\"estimator\"])\n",
    "radiance_field.load_state_dict(sd_A[\"radiance_field\"])"
   ]
  }
 ],
 "metadata": {
  "kernelspec": {
   "display_name": "nerfacc",
   "language": "python",
   "name": "python3"
  },
  "language_info": {
   "codemirror_mode": {
    "name": "ipython",
    "version": 3
   },
   "file_extension": ".py",
   "mimetype": "text/x-python",
   "name": "python",
   "nbconvert_exporter": "python",
   "pygments_lexer": "ipython3",
   "version": "3.8.18"
  }
 },
 "nbformat": 4,
 "nbformat_minor": 2
}
